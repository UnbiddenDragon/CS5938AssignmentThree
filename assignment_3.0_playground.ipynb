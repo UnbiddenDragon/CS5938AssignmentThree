{
 "cells": [
  {
   "metadata": {},
   "cell_type": "markdown",
   "source": "%load_ext autotime",
   "id": "810eb47f572d6c5"
  },
  {
   "metadata": {},
   "cell_type": "markdown",
   "source": [
    "### Instructions\n",
    "1. Seek to improve the one-layer model by changing the internal activation function. This will involve changing A1 to something else, and also changing the derivative involving one or both of dAI and dZ1.\n",
    "2. Add another layer with your choice of activation function (other than the logistic function) and your choice of internal nodes\n",
    "3. Add a third layer\n",
    "4. Add a fourth layer\n",
    "5. Report on your choices and assessment of the resulting models - you can extend the basic model assessment tools supplied\n",
    "6. Based on your answers to tasks 1-4, write code that - for this dataset - allows a user to build and run a neural net with a high degree of flexibility in terms of architecture and hyperperameter choices.\n",
    "7. Explain how advanced optimisers (e.g. Adam) would extend your code"
   ],
   "id": "aa40c179c7415f24"
  },
  {
   "metadata": {
    "ExecuteTime": {
     "end_time": "2025-08-14T17:27:34.776265Z",
     "start_time": "2025-08-14T17:27:34.303880Z"
    }
   },
   "cell_type": "code",
   "source": [
    "import pandas as pd\n",
    "import numpy as np\n",
    "import matplotlib.pyplot as plt\n",
    "import warnings\n",
    "warnings.filterwarnings(action='ignore')"
   ],
   "id": "9cc272dfe3c75cef",
   "outputs": [],
   "execution_count": 2
  },
  {
   "metadata": {
    "ExecuteTime": {
     "end_time": "2025-08-14T13:49:11.946174Z",
     "start_time": "2025-08-14T13:49:11.932279Z"
    }
   },
   "cell_type": "code",
   "source": [
    "# Import the Dataset\n",
    "\n",
    "df = pd.read_csv ('flower2D.csv')\n",
    "print(df.shape)\n",
    "print(df.info())\n",
    "df = df.loc[:, ~df.columns.str.contains('^Unnamed')]\n",
    "df.head()"
   ],
   "id": "146071f5ff35bd6d",
   "outputs": [
    {
     "name": "stdout",
     "output_type": "stream",
     "text": [
      "(400, 4)\n",
      "<class 'pandas.core.frame.DataFrame'>\n",
      "RangeIndex: 400 entries, 0 to 399\n",
      "Data columns (total 4 columns):\n",
      " #   Column      Non-Null Count  Dtype  \n",
      "---  ------      --------------  -----  \n",
      " 0   Unnamed: 0  400 non-null    int64  \n",
      " 1   X1          400 non-null    float64\n",
      " 2   X2          400 non-null    float64\n",
      " 3   Y           400 non-null    int64  \n",
      "dtypes: float64(2), int64(2)\n",
      "memory usage: 12.6 KB\n",
      "None\n"
     ]
    },
    {
     "data": {
      "text/plain": [
       "         X1        X2  Y\n",
       "0  0.005257 -0.303586  0\n",
       "1  0.996098  3.461645  0\n",
       "2  0.384404  2.392678  0\n",
       "3  0.951043  3.282709  0\n",
       "4  0.091932  1.066689  0"
      ],
      "text/html": [
       "<div>\n",
       "<style scoped>\n",
       "    .dataframe tbody tr th:only-of-type {\n",
       "        vertical-align: middle;\n",
       "    }\n",
       "\n",
       "    .dataframe tbody tr th {\n",
       "        vertical-align: top;\n",
       "    }\n",
       "\n",
       "    .dataframe thead th {\n",
       "        text-align: right;\n",
       "    }\n",
       "</style>\n",
       "<table border=\"1\" class=\"dataframe\">\n",
       "  <thead>\n",
       "    <tr style=\"text-align: right;\">\n",
       "      <th></th>\n",
       "      <th>X1</th>\n",
       "      <th>X2</th>\n",
       "      <th>Y</th>\n",
       "    </tr>\n",
       "  </thead>\n",
       "  <tbody>\n",
       "    <tr>\n",
       "      <th>0</th>\n",
       "      <td>0.005257</td>\n",
       "      <td>-0.303586</td>\n",
       "      <td>0</td>\n",
       "    </tr>\n",
       "    <tr>\n",
       "      <th>1</th>\n",
       "      <td>0.996098</td>\n",
       "      <td>3.461645</td>\n",
       "      <td>0</td>\n",
       "    </tr>\n",
       "    <tr>\n",
       "      <th>2</th>\n",
       "      <td>0.384404</td>\n",
       "      <td>2.392678</td>\n",
       "      <td>0</td>\n",
       "    </tr>\n",
       "    <tr>\n",
       "      <th>3</th>\n",
       "      <td>0.951043</td>\n",
       "      <td>3.282709</td>\n",
       "      <td>0</td>\n",
       "    </tr>\n",
       "    <tr>\n",
       "      <th>4</th>\n",
       "      <td>0.091932</td>\n",
       "      <td>1.066689</td>\n",
       "      <td>0</td>\n",
       "    </tr>\n",
       "  </tbody>\n",
       "</table>\n",
       "</div>"
      ]
     },
     "execution_count": 4,
     "metadata": {},
     "output_type": "execute_result"
    }
   ],
   "execution_count": 4
  },
  {
   "metadata": {
    "ExecuteTime": {
     "end_time": "2025-08-14T13:58:48.620708Z",
     "start_time": "2025-08-14T13:58:48.616537Z"
    }
   },
   "cell_type": "code",
   "source": [
    "X, y = df[[\"X1\",\"X2\"]], np.array(df[\"Y\"])\n",
    "n = 300\n",
    "n_test = X.shape[0] - n\n",
    "X_train, X_test = X[:n].T, X[n:].T\n",
    "y_train, y_test = y[:n].reshape(1, n), y[n:].reshape(1, n_test)"
   ],
   "id": "e52261f4c1f9830c",
   "outputs": [],
   "execution_count": 13
  },
  {
   "metadata": {},
   "cell_type": "markdown",
   "source": "#### Loss & functions",
   "id": "4d955c0d8fa665a2"
  },
  {
   "metadata": {
    "ExecuteTime": {
     "end_time": "2025-08-14T14:07:52.848538Z",
     "start_time": "2025-08-14T14:07:52.843970Z"
    }
   },
   "cell_type": "code",
   "source": [
    "## Loss functions\n",
    "def binary_cross_entropy(Y, Y_hat):\n",
    "    m = Y.shape[1]\n",
    "    return -(1/m) * np.sum(Y * np.log(Y_hat + 1e-15) + (1 - Y) * np.log(1 - Y_hat + 1e-15))\n",
    "\n",
    "def categorical_cross_entropy(Y, Y_hat):\n",
    "    m = Y.shape[1]\n",
    "    return -(1/m) * np.sum(Y * np.log(Y_hat + 1e-15))"
   ],
   "id": "61a6edcdc1a560da",
   "outputs": [],
   "execution_count": 17
  },
  {
   "metadata": {},
   "cell_type": "markdown",
   "source": "#### Neural network design",
   "id": "aae714ed5ab05258"
  },
  {
   "metadata": {
    "ExecuteTime": {
     "end_time": "2025-08-14T14:24:12.145640Z",
     "start_time": "2025-08-14T14:24:12.142025Z"
    }
   },
   "cell_type": "code",
   "source": [
    "class Relu:\n",
    "    def __init__(self):\n",
    "        self.out = None\n",
    "    \n",
    "    def forward(self, x):\n",
    "        self.out = np.maximum(0, x)\n",
    "        return self.out\n",
    "    \n",
    "    def backward(self, grad_output):\n",
    "        grad_input = (self.out > 0) * grad_output\n",
    "        return grad_input\n",
    "    \n",
    "    def params_and_grads(self):\n",
    "        return []\n",
    "\n",
    "class Sigmoid:\n",
    "    def __init__(self):\n",
    "        self.out = None\n",
    "        \n",
    "    def forward(self, x):\n",
    "        self.out = 1 / (1 + np.exp(-x))\n",
    "        return self.out\n",
    "    \n",
    "    def backward(self, grad_output):\n",
    "        return grad_output * self.out * (1 - self.out)\n",
    "    \n",
    "    def params_and_grads(self):\n",
    "        return []\n",
    "        "
   ],
   "id": "8caf403ead96c26d",
   "outputs": [],
   "execution_count": 18
  },
  {
   "metadata": {
    "ExecuteTime": {
     "end_time": "2025-08-14T22:46:05.696476Z",
     "start_time": "2025-08-14T22:46:05.692080Z"
    }
   },
   "cell_type": "code",
   "source": [
    "class Linear:\n",
    "    def __init__(self, input_size, output_size):\n",
    "        self.W = np.random.randn(output_size, input_size) * 0.01\n",
    "        self.b = np.zeros((output_size, 1))\n",
    "        self.grad_W = None\n",
    "        self.grad_b = None\n",
    "        self.x = None\n",
    "        \n",
    "    def forward(self, x):\n",
    "        self.x = x\n",
    "        return np.dot(self.W, x) + self.b\n",
    "        \n",
    "    def backward(self, grad_output):\n",
    "        m = self.x.shape[1]\n",
    "        self.grad_W = (1/m) * np.dot(grad_output, self.x.T)\n",
    "        self.grad_b = (1/m) * np.sum(grad_output, axis=1, keepdims=True)\n",
    "        return np.dot(self.W.T, grad_output)\n",
    "    \n",
    "    def params_and_grads(self):\n",
    "        return [(self.W, self.grad_W), (self.b, self.grad_b)]"
   ],
   "id": "de007c03d10479c2",
   "outputs": [],
   "execution_count": 2
  },
  {
   "metadata": {
    "ExecuteTime": {
     "end_time": "2025-08-14T22:31:53.483979Z",
     "start_time": "2025-08-14T22:31:53.478971Z"
    }
   },
   "cell_type": "code",
   "source": [
    "class NeuralNetwork:\n",
    "    def __init__(self, layers, learning_rate=0.01):\n",
    "        self.layers = layers\n",
    "        self.learning_rate = learning_rate\n",
    "        \n",
    "    def forward(self, x):\n",
    "        for layer in self.layers:\n",
    "            x = layer.forward(x)\n",
    "        return x\n",
    "    \n",
    "    def backward(self, grad_loss):\n",
    "        for layer in reversed(self.layers):\n",
    "            grad_loss = layer.backward(grad_loss)\n",
    "        \n",
    "    def params_and_grads(self):\n",
    "        params_and_grads_list = []\n",
    "        for layer in self.layers:\n",
    "            params_and_grads_list.extend(layer.params_and_grads())\n",
    "        return params_and_grads_list\n",
    "\n",
    "    def step(self):\n",
    "        for param, grad in self.params_and_grads():\n",
    "            param -= self.learning_rate * grad"
   ],
   "id": "38b3f8eb4ac9b615",
   "outputs": [],
   "execution_count": 1
  },
  {
   "metadata": {},
   "cell_type": "markdown",
   "source": "### No hidden layers",
   "id": "3faba4f51f7d193c"
  },
  {
   "metadata": {},
   "cell_type": "code",
   "outputs": [],
   "execution_count": null,
   "source": "",
   "id": "f0862f4a2dbd32"
  }
 ],
 "metadata": {
  "kernelspec": {
   "display_name": "Python 3",
   "language": "python",
   "name": "python3"
  },
  "language_info": {
   "codemirror_mode": {
    "name": "ipython",
    "version": 2
   },
   "file_extension": ".py",
   "mimetype": "text/x-python",
   "name": "python",
   "nbconvert_exporter": "python",
   "pygments_lexer": "ipython2",
   "version": "2.7.6"
  }
 },
 "nbformat": 4,
 "nbformat_minor": 5
}
