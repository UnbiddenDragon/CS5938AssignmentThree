{
 "cells": [
  {
   "metadata": {},
   "cell_type": "markdown",
   "source": "%load_ext autotime",
   "id": "810eb47f572d6c5"
  },
  {
   "metadata": {},
   "cell_type": "markdown",
   "source": [
    "### Instructions\n",
    "1. Seek to improve the one-layer model by changing the internal activation function. This will involve changing A1 to something else, and also changing the derivative involving one or both of dAI and dZ1.\n",
    "2. Add another layer with your choice of activation function (other than the logistic function) and your choice of internal nodes\n",
    "3. Add a third layer\n",
    "4. Add a fourth layer\n",
    "5. Report on your choices and assessment of the resulting models - you can extend the basic model assessment tools supplied\n",
    "6. Based on your answers to tasks 1-4, write code that - for this dataset - allows a user to build and run a neural net with a high degree of flexibility in terms of architecture and hyperperameter choices.\n",
    "7. Explain how advanced optimisers (e.g. Adam) would extend your code"
   ],
   "id": "aa40c179c7415f24"
  },
  {
   "metadata": {
    "ExecuteTime": {
     "end_time": "2025-08-14T13:48:59.955140Z",
     "start_time": "2025-08-14T13:48:59.952183Z"
    }
   },
   "cell_type": "code",
   "source": [
    "import pandas as pd\n",
    "import numpy as np\n",
    "import matplotlib.pyplot as plt\n",
    "import warnings\n",
    "warnings.filterwarnings(action='ignore')"
   ],
   "id": "9cc272dfe3c75cef",
   "outputs": [],
   "execution_count": 3
  },
  {
   "metadata": {
    "ExecuteTime": {
     "end_time": "2025-08-14T13:49:11.946174Z",
     "start_time": "2025-08-14T13:49:11.932279Z"
    }
   },
   "cell_type": "code",
   "source": [
    "# Import the Dataset\n",
    "\n",
    "df = pd.read_csv ('flower2D.csv')\n",
    "print(df.shape)\n",
    "print(df.info())\n",
    "df = df.loc[:, ~df.columns.str.contains('^Unnamed')]\n",
    "df.head()"
   ],
   "id": "146071f5ff35bd6d",
   "outputs": [
    {
     "name": "stdout",
     "output_type": "stream",
     "text": [
      "(400, 4)\n",
      "<class 'pandas.core.frame.DataFrame'>\n",
      "RangeIndex: 400 entries, 0 to 399\n",
      "Data columns (total 4 columns):\n",
      " #   Column      Non-Null Count  Dtype  \n",
      "---  ------      --------------  -----  \n",
      " 0   Unnamed: 0  400 non-null    int64  \n",
      " 1   X1          400 non-null    float64\n",
      " 2   X2          400 non-null    float64\n",
      " 3   Y           400 non-null    int64  \n",
      "dtypes: float64(2), int64(2)\n",
      "memory usage: 12.6 KB\n",
      "None\n"
     ]
    },
    {
     "data": {
      "text/plain": [
       "         X1        X2  Y\n",
       "0  0.005257 -0.303586  0\n",
       "1  0.996098  3.461645  0\n",
       "2  0.384404  2.392678  0\n",
       "3  0.951043  3.282709  0\n",
       "4  0.091932  1.066689  0"
      ],
      "text/html": [
       "<div>\n",
       "<style scoped>\n",
       "    .dataframe tbody tr th:only-of-type {\n",
       "        vertical-align: middle;\n",
       "    }\n",
       "\n",
       "    .dataframe tbody tr th {\n",
       "        vertical-align: top;\n",
       "    }\n",
       "\n",
       "    .dataframe thead th {\n",
       "        text-align: right;\n",
       "    }\n",
       "</style>\n",
       "<table border=\"1\" class=\"dataframe\">\n",
       "  <thead>\n",
       "    <tr style=\"text-align: right;\">\n",
       "      <th></th>\n",
       "      <th>X1</th>\n",
       "      <th>X2</th>\n",
       "      <th>Y</th>\n",
       "    </tr>\n",
       "  </thead>\n",
       "  <tbody>\n",
       "    <tr>\n",
       "      <th>0</th>\n",
       "      <td>0.005257</td>\n",
       "      <td>-0.303586</td>\n",
       "      <td>0</td>\n",
       "    </tr>\n",
       "    <tr>\n",
       "      <th>1</th>\n",
       "      <td>0.996098</td>\n",
       "      <td>3.461645</td>\n",
       "      <td>0</td>\n",
       "    </tr>\n",
       "    <tr>\n",
       "      <th>2</th>\n",
       "      <td>0.384404</td>\n",
       "      <td>2.392678</td>\n",
       "      <td>0</td>\n",
       "    </tr>\n",
       "    <tr>\n",
       "      <th>3</th>\n",
       "      <td>0.951043</td>\n",
       "      <td>3.282709</td>\n",
       "      <td>0</td>\n",
       "    </tr>\n",
       "    <tr>\n",
       "      <th>4</th>\n",
       "      <td>0.091932</td>\n",
       "      <td>1.066689</td>\n",
       "      <td>0</td>\n",
       "    </tr>\n",
       "  </tbody>\n",
       "</table>\n",
       "</div>"
      ]
     },
     "execution_count": 4,
     "metadata": {},
     "output_type": "execute_result"
    }
   ],
   "execution_count": 4
  },
  {
   "metadata": {
    "ExecuteTime": {
     "end_time": "2025-08-14T13:58:48.620708Z",
     "start_time": "2025-08-14T13:58:48.616537Z"
    }
   },
   "cell_type": "code",
   "source": [
    "X, y = df[[\"X1\",\"X2\"]], np.array(df[\"Y\"])\n",
    "n = 300\n",
    "n_test = X.shape[0] - n\n",
    "X_train, X_test = X[:n].T, X[n:].T\n",
    "y_train, y_test = y[:n].reshape(1, n), y[n:].reshape(1, n_test)"
   ],
   "id": "e52261f4c1f9830c",
   "outputs": [],
   "execution_count": 13
  },
  {
   "metadata": {},
   "cell_type": "markdown",
   "source": "#### Loss & Output functions",
   "id": "4d955c0d8fa665a2"
  },
  {
   "metadata": {
    "ExecuteTime": {
     "end_time": "2025-08-14T14:00:59.591262Z",
     "start_time": "2025-08-14T14:00:59.587744Z"
    }
   },
   "cell_type": "code",
   "source": [
    "def sigmoid(z):\n",
    "    s = 1 / (1 + np.exp(-z))\n",
    "    return s\n",
    "\n",
    "# Cross entropy loss\n",
    "def binary_cross_entropy(Y, Y_hat):\n",
    "\n",
    "    m = Y.shape[1]\n",
    "    L = -(1./m) * ( np.sum( np.multiply(np.log(Y_hat),Y) ) + np.sum( np.multiply(np.log(1-Y_hat),(1-Y)) ) )\n",
    "\n",
    "    return L"
   ],
   "id": "61a6edcdc1a560da",
   "outputs": [],
   "execution_count": 16
  },
  {
   "metadata": {},
   "cell_type": "code",
   "outputs": [],
   "execution_count": null,
   "source": "",
   "id": "8caf403ead96c26d"
  }
 ],
 "metadata": {
  "kernelspec": {
   "display_name": "Python 3",
   "language": "python",
   "name": "python3"
  },
  "language_info": {
   "codemirror_mode": {
    "name": "ipython",
    "version": 2
   },
   "file_extension": ".py",
   "mimetype": "text/x-python",
   "name": "python",
   "nbconvert_exporter": "python",
   "pygments_lexer": "ipython2",
   "version": "2.7.6"
  }
 },
 "nbformat": 4,
 "nbformat_minor": 5
}
